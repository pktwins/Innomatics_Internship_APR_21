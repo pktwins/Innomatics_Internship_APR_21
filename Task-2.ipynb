{
 "cells": [
  {
   "cell_type": "code",
   "execution_count": 6,
   "metadata": {},
   "outputs": [
    {
     "name": "stdout",
     "output_type": "stream",
     "text": [
      "5\n",
      "4 5 6 7 8\n",
      "7\n"
     ]
    }
   ],
   "source": [
    "#Question no-1\n",
    "\n",
    "if __name__ == '__main__':\n",
    "    n = int(input())\n",
    "    arr =list( map(int, input().split()))[:n]\n",
    "v=max(arr)\n",
    "while max(arr)==v:\n",
    "    arr.remove(v)\n",
    "print(max(arr))"
   ]
  },
  {
   "cell_type": "code",
   "execution_count": 8,
   "metadata": {},
   "outputs": [
    {
     "name": "stdout",
     "output_type": "stream",
     "text": [
      "3\n",
      "pavan\n",
      "29.6\n",
      "kalyan\n",
      "29.5\n",
      "sridhar\n",
      "29.51\n",
      "sridhar\n"
     ]
    }
   ],
   "source": [
    "#Question no-2\n",
    "if __name__ == '__main__':\n",
    "    total=[]\n",
    "    second_l_score=[]\n",
    "    second_l_name=[]\n",
    "    for _ in range(int(input())):\n",
    "        name = input()\n",
    "        score = float(input())\n",
    "        total.append([name,score])\n",
    "        second_l_score.append(score)\n",
    "    t=sorted(total)\n",
    "    a=min(second_l_score)\n",
    "    while min(second_l_score)==a:\n",
    "        second_l_score.remove(a)\n",
    "    b=min(second_l_score)\n",
    "    for key,value in t:\n",
    "        if value==b:\n",
    "            print(key)   "
   ]
  },
  {
   "cell_type": "code",
   "execution_count": 1,
   "metadata": {},
   "outputs": [
    {
     "name": "stdout",
     "output_type": "stream",
     "text": [
      "2\n",
      "pavan 65 45 95\n",
      "kalyan 45 85 75\n",
      "pavan\n",
      "68.33\n"
     ]
    }
   ],
   "source": [
    "#question no-3\n",
    "if __name__ == '__main__':\n",
    "    n = int(input())\n",
    "    student_marks = {}\n",
    "    for _ in range(n):\n",
    "        name, *line = input().split()\n",
    "        scores = list(map(float, line))\n",
    "        student_marks[name] = scores\n",
    "    query_name = input()\n",
    "    a=list(student_marks[query_name])\n",
    "    b=\"{:.2f}\".format(sum(a)/len(a))\n",
    "    print(b)"
   ]
  },
  {
   "cell_type": "code",
   "execution_count": 4,
   "metadata": {},
   "outputs": [
    {
     "name": "stdout",
     "output_type": "stream",
     "text": [
      "2\n",
      "1 2\n",
      "-3550055125485641917\n"
     ]
    }
   ],
   "source": [
    "#Question no-4\n",
    "if __name__ == '__main__':\n",
    "    n = int(input())\n",
    "    integer_list = list(map(int, input().split()))[:n]\n",
    "    k=[]\n",
    "    for i in integer_list:\n",
    "        k.append(i)\n",
    "    t=tuple(k)\n",
    "    print(hash(t))"
   ]
  },
  {
   "cell_type": "code",
   "execution_count": 7,
   "metadata": {},
   "outputs": [
    {
     "name": "stdout",
     "output_type": "stream",
     "text": [
      "3\n",
      "append 4\n",
      "insert 1 10\n",
      "print\n",
      "[4, 10]\n"
     ]
    }
   ],
   "source": [
    "#Question no-5\n",
    "if __name__ == '__main__':\n",
    "    N = int(input())\n",
    "    Output = [];\n",
    "    for i in range(0,N):\n",
    "        ip = input().split();\n",
    "        if ip[0] == \"print\":\n",
    "            print(Output)\n",
    "        elif ip[0] == \"insert\":\n",
    "            Output.insert(int(ip[1]),int(ip[2]))\n",
    "        elif ip[0] == \"remove\":\n",
    "            Output.remove(int(ip[1]))\n",
    "        elif ip[0] == \"pop\":\n",
    "            Output.pop();\n",
    "        elif ip[0] == \"append\":\n",
    "            Output.append(int(ip[1]))\n",
    "        elif ip[0] == \"sort\":\n",
    "            Output.sort();\n",
    "        else:\n",
    "            Output.reverse();"
   ]
  },
  {
   "cell_type": "code",
   "execution_count": 8,
   "metadata": {},
   "outputs": [
    {
     "name": "stdout",
     "output_type": "stream",
     "text": [
      "4\n",
      "161 171 161 181\n",
      "171.0\n"
     ]
    }
   ],
   "source": [
    "#Question no-6\n",
    "def average(array):\n",
    "    # your code goes here\n",
    "    a=set(array)\n",
    "    avg=sum(a)/len(a)\n",
    "    return avg\n",
    "\n",
    "if __name__ == '__main__':\n",
    "    n = int(input())\n",
    "    arr = list(map(int, input().split()))\n",
    "    result = average(arr)\n",
    "    print(result)"
   ]
  },
  {
   "cell_type": "code",
   "execution_count": 1,
   "metadata": {},
   "outputs": [
    {
     "name": "stdout",
     "output_type": "stream",
     "text": [
      "1\n",
      "1\n",
      "1\n",
      "2\n",
      "[[0, 0, 0], [0, 0, 1], [0, 1, 0], [1, 0, 0], [1, 1, 1]]\n"
     ]
    }
   ],
   "source": [
    "#Question no-7\n",
    "if __name__ == '__main__':\n",
    "    x = int(input())\n",
    "    y = int(input())\n",
    "    z = int(input())\n",
    "    n = int(input())\n",
    "    a=[]\n",
    "    for i in range(x+1):\n",
    "        for j in range(y+1):\n",
    "            for k in range(z+1):\n",
    "               if i+j+k!=n:\n",
    "                a.append([i,j,k])\n",
    "    print(a)"
   ]
  },
  {
   "cell_type": "code",
   "execution_count": 3,
   "metadata": {},
   "outputs": [
    {
     "name": "stdout",
     "output_type": "stream",
     "text": [
      "4\n",
      "2 4 5 6\n",
      "4\n",
      "2 4 8 11\n",
      "5\n",
      "6\n",
      "8\n",
      "11\n"
     ]
    }
   ],
   "source": [
    "# Question no-8\n",
    "if __name__=='__main__':\n",
    "    m=int(input())\n",
    "    M=list(map(int, input().split()))\n",
    "    n=int(input())\n",
    "    ut().split()))\n",
    "    b=set(N)\n",
    "    a=set(M)\n",
    "    eN=list(map(int, inp=a.difference(b)\n",
    "    f=b.difference(a)\n",
    "    g=[]\n",
    "    for i in e:\n",
    "        g.append(i)\n",
    "    for i in f:\n",
    "        g.append(i)\n",
    "    h=sorted(g)\n",
    "    for i in h:\n",
    "        print(i)   "
   ]
  },
  {
   "cell_type": "code",
   "execution_count": 4,
   "metadata": {},
   "outputs": [
    {
     "name": "stdout",
     "output_type": "stream",
     "text": [
      "3\n",
      "UK\n",
      "FRANCE\n",
      "UK\n",
      "2\n"
     ]
    }
   ],
   "source": [
    "# Question no-9\n",
    "if __name__=='__main__':\n",
    "    N=int(input())\n",
    "    s=[]\n",
    "    for i in range(N):\n",
    "        a=input()\n",
    "        s.append(a)\n",
    "        \n",
    "    b=set(s)\n",
    "    print(len(b))\n",
    "    "
   ]
  },
  {
   "cell_type": "code",
   "execution_count": 2,
   "metadata": {},
   "outputs": [
    {
     "name": "stdout",
     "output_type": "stream",
     "text": [
      "4\n",
      "2 4 6 8\n",
      "4\n",
      "4 9 10 12\n",
      "7\n"
     ]
    }
   ],
   "source": [
    "#Question no-10\n",
    "\n",
    "if __name__=='__main__':\n",
    "    e=int(input())\n",
    "    E=list(input().strip().split())[:e]\n",
    "    f=int(input())\n",
    "    F=list(input().strip().split())[:f]\n",
    "    a=set(E)\n",
    "    b=set(F)\n",
    "    c=a.union(b)\n",
    "    print(len(c))"
   ]
  },
  {
   "cell_type": "code",
   "execution_count": 3,
   "metadata": {},
   "outputs": [
    {
     "name": "stdout",
     "output_type": "stream",
     "text": [
      "4\n",
      "2 4 6 8\n",
      "4\n",
      "4 9 10 12\n",
      "1\n"
     ]
    }
   ],
   "source": [
    "#Question no-11\n",
    "\n",
    "if __name__=='__main__':\n",
    "    e=int(input())\n",
    "    E=list(input().strip().split())[:e]\n",
    "    f=int(input())\n",
    "    F=list(input().strip().split())[:f]\n",
    "    a=set(E)\n",
    "    b=set(F)\n",
    "    c=a.intersection(b)\n",
    "    print(len(c))"
   ]
  },
  {
   "cell_type": "code",
   "execution_count": 4,
   "metadata": {},
   "outputs": [
    {
     "name": "stdout",
     "output_type": "stream",
     "text": [
      "4\n",
      "2 4 6 8\n",
      "4\n",
      "4 9 10 12\n",
      "3\n"
     ]
    }
   ],
   "source": [
    "#Question no-12\n",
    "\n",
    "if __name__=='__main__':\n",
    "    e=int(input())\n",
    "    E=list(input().strip().split())[:e]\n",
    "    f=int(input())\n",
    "    F=list(input().strip().split())[:f]\n",
    "    a=set(E)\n",
    "    b=set(F)\n",
    "    c=a.difference(b)\n",
    "    print(len(c))"
   ]
  },
  {
   "cell_type": "code",
   "execution_count": 5,
   "metadata": {},
   "outputs": [
    {
     "name": "stdout",
     "output_type": "stream",
     "text": [
      "4\n",
      "2 4 6 8\n",
      "4\n",
      "4 9 10 12\n",
      "6\n"
     ]
    }
   ],
   "source": [
    "#Question no-13\n",
    "if __name__=='__main__':\n",
    "    e=int(input())\n",
    "    E=list(input().strip().split())[:e]\n",
    "    f=int(input())\n",
    "    F=list(input().strip().split())[:f]\n",
    "    a=set(E)\n",
    "    b=set(F)\n",
    "    c=a.symmetric_difference(b)\n",
    "    print(len(c))"
   ]
  },
  {
   "cell_type": "code",
   "execution_count": 7,
   "metadata": {},
   "outputs": [
    {
     "name": "stdout",
     "output_type": "stream",
     "text": [
      "4\n",
      "2 4 6 8\n",
      "3\n",
      "remove 4\n",
      "pop\n",
      "discard 2\n",
      "6\n"
     ]
    }
   ],
   "source": [
    "#Question no-14\n",
    "if __name__ == '__main__':\n",
    "    n = int(input())\n",
    "    s=set(map(int, input().split()))\n",
    "    N=int(input())\n",
    "    for i in range(0,N):\n",
    "        ip = input().split();\n",
    "        if ip[0] == \"remove\":\n",
    "            s.remove(int(ip[1]))\n",
    "        elif ip[0] == \"pop\":\n",
    "            s.pop();\n",
    "        elif ip[0] == \"discard\":\n",
    "            s.discard(int(ip[1]))\n",
    "    print(sum(s))"
   ]
  },
  {
   "cell_type": "code",
   "execution_count": 8,
   "metadata": {},
   "outputs": [
    {
     "name": "stdout",
     "output_type": "stream",
     "text": [
      "4\n",
      "2 4 6 8\n",
      "2\n",
      "update 2\n",
      "35 45\n",
      "difference_update 2\n",
      "22 10\n",
      "100\n"
     ]
    }
   ],
   "source": [
    "#Question no-15\n",
    "if __name__ == '__main__':\n",
    "    n = int(input())\n",
    "    s=set(map(int, input().split()))\n",
    "    N=int(input())\n",
    "    for i in range(N):\n",
    "        ip = input().split();\n",
    "        if ip[0] == \"update\":\n",
    "            a=set(map(int, input().split()))\n",
    "            s.update(a)\n",
    "        \n",
    "        elif ip[0] == \"intersection_update\":\n",
    "            b=set(map(int, input().split()))\n",
    "            s.intersection_update(b)\n",
    "        elif ip[0] == \"difference_update\":\n",
    "            c=set(map(int, input().split()))\n",
    "            s.difference_update(c)\n",
    "        elif ip[0]==\"symmetric_difference_update\":\n",
    "            d=set(map(int, input().split()))\n",
    "            s.symmetric_difference_update(d)\n",
    "    print(sum(s))"
   ]
  },
  {
   "cell_type": "code",
   "execution_count": null,
   "metadata": {},
   "outputs": [],
   "source": [
    "#Question no-16\n",
    "if __name__=='__main__':\n",
    "    n=int(input())\n",
    "    for i in range(1,n+1):\n",
    "        a=int(input())\n",
    "        A=set(map(int, input().split()))\n",
    "        b=int(input())\n",
    "        B=set(map(int, input().split()))\n",
    "        if A.issubset(B):\n",
    "            print(True)\n",
    "        else:\n",
    "            print(False)"
   ]
  },
  {
   "cell_type": "code",
   "execution_count": null,
   "metadata": {},
   "outputs": [],
   "source": [
    "#Question no-17\n",
    "# Enter your code here. Read input from STDIN. Print output to STDOUT\n",
    "if __name__=='__main__':\n",
    "    a=set(map(int, input().split()))\n",
    "    n=int(input())\n",
    "    b=set(map(int, input().split()))\n",
    "    c=set(map(int, input().split()))\n",
    "    if a.issuperset(b) and a.issuperset(c):\n",
    "        print(True)\n",
    "    else:\n",
    "        print(False)\n",
    "            "
   ]
  },
  {
   "cell_type": "code",
   "execution_count": null,
   "metadata": {},
   "outputs": [],
   "source": [
    "#Question no-18\n",
    "if __name__=='__main__':\n",
    "    k=int(input())\n",
    "    a=list(map(int, input().split()))\n",
    "    for i in a:\n",
    "        if a.count(i)!=k in a:\n",
    "            print(i)"
   ]
  },
  {
   "cell_type": "code",
   "execution_count": null,
   "metadata": {},
   "outputs": [],
   "source": [
    "# Question no-19\n",
    "\n",
    "if __name__=='__main__':\n",
    "    l=(input().split())\n",
    "    n=int(l[0])\n",
    "    m=int(l[1])\n",
    "    arr=list(map(int, input().split()))[:n]\n",
    "    a=list(map(int, input().split()))[:m]\n",
    "    b=list(map(int, input().split()))[:m]\n",
    "    A=set(a)\n",
    "    B=set(b)\n",
    "    p=0\n",
    "    q=0\n",
    "    for i in arr:\n",
    "        if i in A:\n",
    "            p+=1\n",
    "        elif i in B:\n",
    "            q+=1\n",
    "    print(p-q)"
   ]
  },
  {
   "cell_type": "code",
   "execution_count": null,
   "metadata": {},
   "outputs": [],
   "source": []
  }
 ],
 "metadata": {
  "kernelspec": {
   "display_name": "Python 3",
   "language": "python",
   "name": "python3"
  },
  "language_info": {
   "codemirror_mode": {
    "name": "ipython",
    "version": 3
   },
   "file_extension": ".py",
   "mimetype": "text/x-python",
   "name": "python",
   "nbconvert_exporter": "python",
   "pygments_lexer": "ipython3",
   "version": "3.8.5"
  }
 },
 "nbformat": 4,
 "nbformat_minor": 4
}
